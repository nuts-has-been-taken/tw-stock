{
 "cells": [
  {
   "cell_type": "markdown",
   "id": "cac58686",
   "metadata": {},
   "source": [
    "# Clayton Copula model\n",
    "用來計算兩組數據的左尾相關性"
   ]
  },
  {
   "cell_type": "code",
   "execution_count": 5,
   "id": "f8141bd9",
   "metadata": {},
   "outputs": [],
   "source": [
    "from scipy.optimize import minimize\n",
    "import scipy.stats as stats\n",
    "import yfinance as yf\n",
    "import numpy as np\n",
    "\n",
    "# Clayton Copula 模型\n",
    "def clayton_log_likelihood(theta, u, v):\n",
    "    if theta <= 0:\n",
    "        return np.inf\n",
    "    n = len(u)\n",
    "    term1 = (theta + 1) * np.sum(np.log(u * v))\n",
    "    term2 = np.sum((u ** (-theta) + v ** (-theta) - 1) ** (-1 / theta - 1) * (u ** (-theta - 1) * v ** (-theta - 1)))\n",
    "    log_likelihood = n * np.log(theta + 1) - term1 - term2\n",
    "    return -log_likelihood\n",
    "\n",
    "def eval_clayton_theta(data1, data2):\n",
    "    # 估計邊際分布\n",
    "    # 假設收益率服從正態分布\n",
    "    params1 = stats.norm.fit(data1)\n",
    "    params2 = stats.norm.fit(data2)\n",
    "\n",
    "    # 轉換為均勻分布\n",
    "    u1 = stats.norm.cdf(data1, *params1)\n",
    "    u2 = stats.norm.cdf(data2, *params2)\n",
    "\n",
    "\n",
    "    # 嘗試不同初始值\n",
    "    initial_guesses = [0.1, 0.5, 1, 2, 5]\n",
    "    best_theta = None\n",
    "    best_log_likelihood = np.inf\n",
    "\n",
    "    for initial_guess in initial_guesses:\n",
    "        result = minimize(clayton_log_likelihood, x0=initial_guess, args=(u1, u2), bounds=[(0.0001, None)])\n",
    "        if result.fun < best_log_likelihood:\n",
    "            best_log_likelihood = result.fun\n",
    "            best_theta = result.x[0]\n",
    "\n",
    "    # 計算Kendall's tau\n",
    "    tau = best_theta / (best_theta + 2)\n",
    "\n",
    "    ### theta為coupla參數，數值越大代表越相關\n",
    "    print(f'Estimated theta: {best_theta}')"
   ]
  },
  {
   "cell_type": "markdown",
   "id": "73eb7086",
   "metadata": {},
   "source": [
    "## 使用範例\n",
    "分數 > 0 代表有關係，分數越高代表關聯性越強"
   ]
  },
  {
   "cell_type": "code",
   "execution_count": 6,
   "id": "dbc5e651",
   "metadata": {},
   "outputs": [
    {
     "name": "stderr",
     "output_type": "stream",
     "text": [
      "[*********************100%%**********************]  1 of 1 completed\n",
      "[*********************100%%**********************]  1 of 1 completed"
     ]
    },
    {
     "name": "stdout",
     "output_type": "stream",
     "text": [
      "Estimated theta: 0.10592974037562221\n"
     ]
    },
    {
     "name": "stderr",
     "output_type": "stream",
     "text": [
      "\n"
     ]
    }
   ],
   "source": [
    "\n",
    "# 下載股票資料\n",
    "data1 = yf.download('2330.TW', start='2020-01-01', end='2023-01-01')['Adj Close'].pct_change().dropna()\n",
    "data2 = yf.download('2454.TW', start='2020-01-01', end='2023-01-01')['Adj Close'].pct_change().dropna()\n",
    "\n",
    "eval_clayton_theta(data1, data2)"
   ]
  }
 ],
 "metadata": {
  "kernelspec": {
   "display_name": "Python 3 (ipykernel)",
   "language": "python",
   "name": "python3"
  },
  "language_info": {
   "codemirror_mode": {
    "name": "ipython",
    "version": 3
   },
   "file_extension": ".py",
   "mimetype": "text/x-python",
   "name": "python",
   "nbconvert_exporter": "python",
   "pygments_lexer": "ipython3",
   "version": "3.10.12"
  }
 },
 "nbformat": 4,
 "nbformat_minor": 5
}
